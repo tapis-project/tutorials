{
  "cells": [
    {
      "cell_type": "markdown",
      "metadata": {
        "collapsed": false,
        "id": "QS1xw_2_32ix"
      },
      "source": [
        "# PEARC 25 Hands-on Exercises\n",
        "\n",
        "Login to https://training.tapis.io. Use the username and password provided to you to authenticate.\n",
        "<!--![Login Step](images/login-tapis.png)-->\n",
        "<img src=\"images/login-tapis.png\" style=\"max-width:60%;\">\n"
      ]
    },
    {
      "cell_type": "markdown",
      "metadata": {
        "collapsed": false,
        "id": "FLrLo_P832i3"
      },
      "source": [
        "## Systems\n",
        "\n",
        "In this section, we will create two Tapis systems: one for running jobs on a VM host using FORK, and another for running jobs on an HPC-type host using BATCH.\n",
        "\n",
        "⚠️ Note: While it is possible to include login credentials in the system definitions, we have not done so here. Well-crafted system definitions are often copied and reused. For security reasons, it is recommended to register login credentials separately.\n",
        "\n",
        "When you log in to Tapis UI, you may see My Systems showing 0, as no systems have been created yet. As you create systems, this list will populate accordingly. However, you should still see some public systems already available.\n"
      ]
    },
    {
      "cell_type": "markdown",
      "metadata": {},
      "source": [
        "### Create System\n",
        "Click on Systems from the left-hand menu, then click the Create System button in the top-right corner. You will see two options for creating a system:\n",
        "\n",
        "By filling out a form, or Using the JSON Editor\n",
        "\n",
        "For this tutorial, we will use the JSON Editor.\n",
        "\n",
        "<!-- ![Create System vm](images/create-system.png) -->\n",
        "<img src=\"images/create-system.png\" style=\"max-width:60%;\">\n"
      ]
    },
    {
      "cell_type": "markdown",
      "metadata": {},
      "source": [
        "Copy the system JSON provided below into the editor, then click Create System."
      ]
    },
    {
      "cell_type": "code",
      "execution_count": null,
      "metadata": {
        "colab": {
          "base_uri": "https://localhost:8080/"
        },
        "id": "Tt-wvvt132i4",
        "outputId": "6ff13bf3-2c67-4f13-aea0-b99b95afb175"
      },
      "outputs": [],
      "source": [
        "{\n",
        "  \"id\": \"pearc25-vm-system-training\",\n",
        "  \"description\": \"Test system\",\n",
        "  \"systemType\": \"LINUX\",\n",
        "  \"host\": \"129.114.35.138\",\n",
        "  \"effectiveUserId\":\"${apiUserId}\",\n",
        "  \"defaultAuthnMethod\": \"PASSWORD\",\n",
        "  \"rootDir\": \"/\",\n",
        "  \"canExec\": true,\n",
        "  \"jobRuntimes\": [ { \"runtimeType\": \"DOCKER\" } ],\n",
        "  \"jobWorkingDir\": \"HOST_EVAL($HOME)/sharetest/workdir\"\n",
        "}"
      ]
    },
    {
      "cell_type": "markdown",
      "metadata": {},
      "source": [
        "In the My Systems you should now see the system you just created."
      ]
    },
    {
      "cell_type": "markdown",
      "metadata": {
        "collapsed": false,
        "id": "VyViIQtq32i7"
      },
      "source": [
        "### Register Credentials for the VM system\n",
        "\n",
        "After creating the system, you will need to register credentials for your username. These credentials allow Tapis to access the host system on your behalf.\n",
        "\n",
        "Tapis supports various authentication methods, such as PASSWORD and PKI_KEYS. In this tutorial, we will show you how to add password-based credentials for your system.\n",
        "\n",
        "You will need to use the provided vm_password for this step.\n",
        "\n",
        "<!-- ![Add Credential](images/authenticate-system.png) -->\n",
        "<img src=\"images/authenticate-system.png\" style=\"max-width:60%;\">"
      ]
    },
    {
      "cell_type": "markdown",
      "metadata": {},
      "source": [
        "Click on the AUTHENTICATE and add Password\n",
        "<!-- ![Add Password](images/add-password-system.png) -->\n",
        "<img src=\"images/add-password-system.png\" style=\"max-width:60%;\">"
      ]
    },
    {
      "cell_type": "markdown",
      "metadata": {},
      "source": [
        "You should see Successfully created credentials. If there is any error please try to enter the vm_password again\n",
        "<!-- ![Credential Success](images/credentials-success.png) -->\n",
        "<img src=\"images/credentials-success.png\" style=\"max-width:60%;\">"
      ]
    },
    {
      "cell_type": "markdown",
      "metadata": {
        "collapsed": false,
        "id": "yAWVE8AA32i8"
      },
      "source": [
        "Now that you have successfully added your credentials, your system is ready to use.\n",
        "\n",
        "To verify this, go to the Files tab from the left-hand menu and try listing the files.\n",
        "You should see something similar to the image below.\n",
        "\n",
        "<!-- ![Files List](images/files-list-vm.png) -->\n",
        "<img src=\"images/files-list-vm.png\" style=\"max-width:60%;\">"
      ]
    },
    {
      "cell_type": "markdown",
      "metadata": {},
      "source": [
        "We will now learn to create a Sentiment Analysis Application with Tapis."
      ]
    },
    {
      "cell_type": "markdown",
      "metadata": {
        "id": "EfX-NHKi4099"
      },
      "source": [
        "### Natural Language Processsing: Sentiment Analysis\n",
        "- Sentiment Analysis is one of the most popular applications of Natural Language Processing, which uses the Text Classification method to analyse the sentiment or emotion of the given text.\n",
        "- Sentiment analysis assigns a label like 🙂 positive, 🙁 negative, or 😐 neutral to a sequence of text.\n",
        "- It is useful tool to make business decisions based on customer feedback and reviews.\n",
        "\n"
      ]
    },
    {
      "cell_type": "code",
      "execution_count": null,
      "metadata": {
        "colab": {
          "base_uri": "https://localhost:8080/"
        },
        "id": "Tkx40OLiCmw4",
        "outputId": "13523a89-ff74-4b23-8277-7c08bb475bae"
      },
      "outputs": [],
      "source": [
        "#!pip install -q transformers"
      ]
    },
    {
      "cell_type": "code",
      "execution_count": null,
      "metadata": {
        "id": "AOWE7vxoDanc"
      },
      "outputs": [],
      "source": [
        "from transformers import pipeline"
      ]
    },
    {
      "cell_type": "code",
      "execution_count": null,
      "metadata": {
        "colab": {
          "base_uri": "https://localhost:8080/",
          "height": 199,
          "referenced_widgets": [
            "e019f9b1da334de7b367eac4f5832aa7",
            "d702df7b9ebf4dc69500e3fc9c8c79bb",
            "68bd26dfc3184328a35a4a90b5f67de9",
            "f960471fd6fe4265bdbb2fd251de6d83",
            "028c7b70ab0f47eba3c2f1f20b0926e5",
            "3a96b255b77b46929efd57dc56c4a800",
            "b3d6482f80134b668d1c48af02de7bcf",
            "4495c485de554751a39b7ebba6ce9faa",
            "81127743dd6541f6a0362bfbfc3d7472",
            "3ef1dbc02b6a4f08b894093bdac7343d",
            "38831328b9054139accbde1240fbda25",
            "604d3d379cac422db3876609feefab31",
            "67d1cc4f82a641d6abf28f144c46eb8d",
            "98c799acf42b4c7c867803de3bd79612",
            "da334338b05248489ad5e5d2acd432e1",
            "43d1271cec9745cdb2649a85dc79e0e6",
            "8723bbfd4d8a4542ab35aeeac8191c40",
            "b20c421a8af9477299d34f294ca66774",
            "6d18fa41260641ca958def558a890967",
            "951a1ff3690d469dafcab1e112cacfd7",
            "2f5c6539bb0d433e8a93e480452f2078",
            "9b9a8e9b74e842f4962d96a3e3a2e3dd",
            "1a08a5ac238d4d40b1dd7d925361e589",
            "348eef1705e54a9b9f3660ded76bd68f",
            "7eca837840ab495aa653d2751e821b2a",
            "b55f0dae3c3647139c6680d6b59da998",
            "15e1577696a94cda9ff6c4c70ace604b",
            "91c780a04a054671ad27c793f8693390",
            "79bb64584df84cc5b70d837fce33b730",
            "74478d586aaa4fe49c4f344a959e670e",
            "58a16acf45cb46f287d156a14f769a46",
            "c9f88d97ef8b47aa92217e58fd3d82e0",
            "47963cd61cae4dc4998b3a8d91043cc6",
            "a0fc5b142c3b40dba6ab18a03f2a5b05",
            "1668296226ee45449efc03c39b22ce4a",
            "0b8b3fafc8c24636a0c62a166483ddf1",
            "5ffb028ce453462aa304d39876928cb6",
            "f494f3b2a79b4139875cb40395d4e2ee",
            "b2189b6006984d4ca6257f54f0626883",
            "ef60dcf976254edeba80447ddaa09cc4",
            "ce0589017b48404dbce085ac6d20ab39",
            "7936555292b840c5884828de3c249282",
            "d68ec7378a3e4e59ab59ccdeb8b2739e",
            "8e3575d6ddc1441c88027bbd369524cd"
          ]
        },
        "id": "WRcg3qnpDd_3",
        "outputId": "6be1624b-eed1-476a-d7bf-4a9ec55adb3f"
      },
      "outputs": [],
      "source": [
        "sentiment_pipeline = pipeline(\"sentiment-analysis\")"
      ]
    },
    {
      "cell_type": "code",
      "execution_count": null,
      "metadata": {
        "colab": {
          "base_uri": "https://localhost:8080/"
        },
        "id": "ZIFaBjQiDwjU",
        "outputId": "0258aba0-2a81-4abf-a806-080a61232648"
      },
      "outputs": [],
      "source": [
        "text= \"Glad to see you at PEARC 25\"\n",
        "sentiment_pipeline(text)"
      ]
    },
    {
      "cell_type": "markdown",
      "metadata": {
        "id": "VpsuliwCD_uS"
      },
      "source": [
        "### Create App with Tapis UI"
      ]
    },
    {
      "cell_type": "markdown",
      "metadata": {},
      "source": [
        "In the Apps Tab in TapisUI, click on + NEW APP > JSON EDITOR and paste the below json \n",
        "\n",
        "<!-- ![Create App VM](images/create-app-vm.png) -->\n",
        "<img src=\"images/create-app-vm.png\" style=\"max-width:60%;\">"
      ]
    },
    {
      "cell_type": "code",
      "execution_count": null,
      "metadata": {
        "id": "mitE0JQ-D-bq"
      },
      "outputs": [],
      "source": [
        "{\n",
        "    \"id\": \"pearc25-sentiment-analysis-app-vm\",\n",
        "    \"version\": \"0.1\",\n",
        "    \"description\": \"Application utilizing the sentiment analysis model from Hugging Face.\",\n",
        "    \"jobType\": \"FORK\",\n",
        "    \"runtime\": \"DOCKER\",\n",
        "    \"containerImage\": \"tapis/sentiment-analysis:2.0.2\",\n",
        "    \"jobAttributes\": {\n",
        "        \"parameterSet\": {\n",
        "            \"archiveFilter\": {\n",
        "                \"includeLaunchFiles\": false\n",
        "            }\n",
        "        },\n",
        "        \"memoryMB\": 1,\n",
        "        \"nodeCount\": 1,\n",
        "        \"coresPerNode\": 1,\n",
        "        \"maxMinutes\": 10\n",
        "    }\n",
        "}"
      ]
    },
    {
      "cell_type": "markdown",
      "metadata": {},
      "source": [
        "Click on Create App and it should give a success message."
      ]
    },
    {
      "cell_type": "markdown",
      "metadata": {},
      "source": [
        "### Submit Job in Tapis UI"
      ]
    },
    {
      "cell_type": "markdown",
      "metadata": {},
      "source": [
        "In the Apps Tab, click on the Application you created. You should see Submit job button, click that and enter the below job json in the JSON EDITOR, and click submit.\n",
        "<!-- ![Submit Job](images/submitjobjson.png) -->\n",
        "<img src=\"images/submitjobjson.png\" style=\"max-width:60%;\">"
      ]
    },
    {
      "cell_type": "code",
      "execution_count": null,
      "metadata": {
        "id": "DGyV9nAufXsO"
      },
      "outputs": [],
      "source": [
        "{\n",
        "    \"name\":\"sentiment analysis\",\n",
        "    \"description\":\"sentiment analysis with hugging face transformer pipelines\",\n",
        "    \"appId\":\"pearc25-sentiment-analysis-app-vm\",\n",
        "    \"appVersion\":\"0.1\",\n",
        "    \"execSystemId\":\"pearc25-vm-system-training\", \n",
        "    \"parameterSet\": {\n",
        "    \"appArgs\": [\n",
        "            {\"arg\": \"--sentences\"},\n",
        "            {\"arg\": \"\\\"This is great\\\" \\\"This is not fun\\\"\"},\n",
        "            {\"arg\": \"--output-filepath\"},\n",
        "            {\"arg\":\"/TapisOutput/results.csv\"}\n",
        "            \n",
        "        ]\n",
        "    }\n",
        "}"
      ]
    },
    {
      "cell_type": "markdown",
      "metadata": {},
      "source": [
        "Once the job successfully finishes you should see a results.csv file which has the results from sentiment analysis on the sentences provided in the job\n",
        "\n",
        "<!-- ![Job Success](images/job-vm-success.png) -->\n",
        "<img src=\"images/job-vm-success.png\" style=\"max-width:60%;\">"
      ]
    },
    {
      "cell_type": "markdown",
      "metadata": {
        "collapsed": false,
        "id": "8rZz6n2K32i9"
      },
      "source": [
        "### Create a system for the HPC cluster\n",
        "\n",
        "With just a few changes to the system definition you can create a second system that can be used to run the\n",
        "same application on an HPC type host. Note the minimal changes:\n",
        "\n",
        "* **id** - A unique id is required\n",
        "* **host** - Main hostname for the HPC system.\n",
        "* **rootDir** - Using the root directory of the host gives us flexibility in setting **jobWorkingDir**.\n",
        "  Note that you still need LINUX permissions.\n",
        "* **jobWorkingDir** - Now determined dynamically using the Tapis v3 function HOST_EVAL()\n",
        "* **jobRuntimes** - Most HPC systems support singularity and not docker\n",
        "* **batchLogicalQueue.hpcQueueName** - HPC queue to use by default.\n",
        "* **batchLogicalQueues** - HPC queue definitions for this HPC system."
      ]
    },
    {
      "cell_type": "markdown",
      "metadata": {},
      "source": [
        "In the Tapis UI, Systems Tab. Click on + CREATE SYSTEM, copy the below json in JSON EDITOR and click CREATE SYSTEM."
      ]
    },
    {
      "cell_type": "code",
      "execution_count": null,
      "metadata": {
        "colab": {
          "base_uri": "https://localhost:8080/"
        },
        "id": "gkDmZ2Vp32i-",
        "outputId": "4b3ddc45-9449-4c47-ee1f-e9630d7333e1"
      },
      "outputs": [],
      "source": [
        "{\n",
        "  \"id\": \"pearc25-system-id-hpc\",\n",
        "  \"description\": \"System for testing jobs on an HPC type host for PEARC25\",\n",
        "  \"systemType\": \"LINUX\",\n",
        "  \"host\": \"129.114.35.138\",\n",
        "  \"defaultAuthnMethod\": \"PASSWORD\",\n",
        "  \"effectiveUserId\": \"${apiUserId}\",\n",
        "  \"rootDir\": \"/\",\n",
        "  \"canExec\": true,\n",
        "  \"jobRuntimes\": [ { \"runtimeType\": \"SINGULARITY\" } ],\n",
        "  \"jobWorkingDir\": \"HOST_EVAL($HOME)/sharetest/workdir\",\n",
        "  \"canRunBatch\": true,\n",
        "  \"batchScheduler\": \"SLURM\",\n",
        "  \"batchSchedulerProfile\": \"tacc\",\n",
        "  \"batchDefaultLogicalQueue\": \"tapisNormal\",\n",
        "  \"batchLogicalQueues\": [\n",
        "    {\n",
        "      \"name\": \"tapisNormal\",\n",
        "      \"hpcQueueName\": \"normal\",\n",
        "      \"maxJobs\": 50,\n",
        "      \"maxJobsPerUser\": 10,\n",
        "      \"minNodeCount\": 1,\n",
        "      \"maxNodeCount\": 16,\n",
        "      \"minCoresPerNode\": 1,\n",
        "      \"maxCoresPerNode\": 68,\n",
        "      \"minMemoryMB\": 1,\n",
        "      \"maxMemoryMB\": 16384,\n",
        "      \"minMinutes\": 1,\n",
        "      \"maxMinutes\": 60\n",
        "    }\n",
        "  ]\n",
        "}"
      ]
    },
    {
      "cell_type": "markdown",
      "metadata": {},
      "source": [
        "Once the HPC System is successfully created it should show up in My Systems."
      ]
    },
    {
      "cell_type": "markdown",
      "metadata": {
        "collapsed": false,
        "id": "6Zz027KS32jA"
      },
      "source": [
        "### Register Credentials for the HPC system\n",
        "\n",
        "As before, now you will need to register credentials for your username. Use the vm_password to add credentials."
      ]
    },
    {
      "cell_type": "markdown",
      "metadata": {
        "collapsed": false,
        "id": "ZuyT88zs32jA"
      },
      "source": [
        "Once you get a message that system credentials were successfully created, you should be able to list files on that system.\n",
        "Go to the files tab and click on the system-id that was created recently.\n",
        "\n",
        "<!-- ![Files List HPC](images/files-list-hpc.png) -->\n",
        "<img src=\"images/files-list-hpc.png\" style=\"max-width:60%;\">"
      ]
    },
    {
      "cell_type": "markdown",
      "metadata": {
        "collapsed": false,
        "id": "0ZKd5yCi32jB"
      },
      "source": [
        "## HPC Application\n",
        "\n",
        "In order to run a job on a system you will need to create a Tapis application.\n",
        "\n",
        "### Create an application that can be run on the VM host or the HPC cluster"
      ]
    },
    {
      "cell_type": "markdown",
      "metadata": {},
      "source": [
        "<!-- ![Create App HPC](images/create-app-hpc.png) -->\n",
        "<img src=\"images/create-app-hpc.png\" style=\"max-width:60%;\">"
      ]
    },
    {
      "cell_type": "markdown",
      "metadata": {},
      "source": [
        "Copy the json in JSON EDITOR + NEW APP"
      ]
    },
    {
      "cell_type": "code",
      "execution_count": null,
      "metadata": {
        "id": "kzn6TaRiDega"
      },
      "outputs": [],
      "source": [
        "{\n",
        "    \"id\": \"pearc25-sentiment-analysis-app-hpc-training\",\n",
        "    \"version\": \"0.1\",\n",
        "    \"description\": \"Application utilizing the sentiment analysis model from Hugging Face.\",\n",
        "    \"jobType\": \"BATCH\",\n",
        "    \"runtime\": \"SINGULARITY\",\n",
        "    \"runtimeOptions\": [\"SINGULARITY_RUN\"],\n",
        "    \"containerImage\": \"/tmp/sentiment-analysis_2.0.2.sif\",\n",
        "    \"jobAttributes\": {\n",
        "            \"parameterSet\": {\n",
        "            \"archiveFilter\": {\n",
        "                \"includeLaunchFiles\": false\n",
        "            }\n",
        "        },\n",
        "        \"memoryMB\": 1,\n",
        "        \"nodeCount\": 1,\n",
        "        \"coresPerNode\": 1,\n",
        "        \"maxMinutes\": 10\n",
        "    }\n",
        "}"
      ]
    },
    {
      "cell_type": "markdown",
      "metadata": {},
      "source": [
        "## Submit Job"
      ]
    },
    {
      "cell_type": "code",
      "execution_count": null,
      "metadata": {
        "id": "cekpWqVjYjXz"
      },
      "outputs": [],
      "source": [
        "{\n",
        "    \"name\":\"sentiment analysis hpc\",\n",
        "    \"description\":\"sentiment analysis with hugging face transformer pipelines\",\n",
        "    \"appId\":\"pearc25-sentiment-analysis-app-hpc-training\",\n",
        "    \"appVersion\":\"0.1\",\n",
        "    \"execSystemId\":\"pearc25-system-id-hpc\", \n",
        "    \"parameterSet\": {\n",
        "    \"appArgs\": [\n",
        "            {\"arg\": \"--sentences\"},\n",
        "            {\"arg\": \"\\\"This is great\\\" \\\"This is not fun\\\"\"},\n",
        "            {\"arg\": \"--output-filepath\"},\n",
        "            {\"arg\":\"./output/results.csv\"}\n",
        "            \n",
        "        ]\n",
        "    }\n",
        "}"
      ]
    },
    {
      "cell_type": "markdown",
      "metadata": {
        "collapsed": false,
        "id": "zbPCKlo532jG"
      },
      "source": [
        "### Setting Notifications on Job events\n"
      ]
    },
    {
      "cell_type": "markdown",
      "metadata": {},
      "source": [
        "Note: Make sure to add your email address in the submitJob call."
      ]
    },
    {
      "cell_type": "code",
      "execution_count": null,
      "metadata": {
        "id": "zSFWG6mnHqzd"
      },
      "outputs": [],
      "source": [
        "{\n",
        "    \"name\":\"sentiment analysis hpc\",\n",
        "    \"description\":\"sentiment analysis with hugging face transformer pipelines\",\n",
        "    \"appId\":\"pearc25-sentiment-analysis-app-hpc-training\",\n",
        "    \"appVersion\":\"0.1\",\n",
        "    \"execSystemId\":\"pearc25-system-id-hpc\", \n",
        "    \"parameterSet\": {\n",
        "    \"appArgs\": [\n",
        "            {\"arg\": \"--sentences\"},\n",
        "            {\"arg\": \"\\\"This is great\\\" \\\"This is not fun\\\"\"},\n",
        "            {\"arg\": \"--output-filepath\"},\n",
        "            {\"arg\":\"./output/results.csv\"}\n",
        "            \n",
        "        ]\n",
        "    },\n",
        "    \"subscriptions\": \n",
        "    [ \n",
        "      { \n",
        "        \"description\": \"Test subscriptions\", \n",
        "        \"eventCategoryFilter\": \"ALL\",\n",
        "        \"deliveryTargets\": [ { \"deliveryMethod\": \"EMAIL\",\"deliveryAddress\":\"***\"}]\n",
        "      }\n",
        "    ]\n",
        "    }"
      ]
    },
    {
      "cell_type": "markdown",
      "metadata": {
        "collapsed": false,
        "id": "oTFph5jX32jI"
      },
      "source": [
        "### Cancel/Resubmit a job\n"
      ]
    },
    {
      "cell_type": "markdown",
      "metadata": {},
      "source": [
        "You may cancel a job if it is not in the terminating state by clicking the CANCEL JOB button in Tapis UI. Similary you can resubmit a job by clicking the RESUBMIT button."
      ]
    },
    {
      "cell_type": "markdown",
      "metadata": {},
      "source": [
        "### App Share/Unshare\n"
      ]
    },
    {
      "cell_type": "markdown",
      "metadata": {},
      "source": [
        "Apps can be shared or unshared with other users from TapisUI "
      ]
    }
  ],
  "metadata": {
    "colab": {
      "provenance": []
    },
    "kernelspec": {
      "display_name": "Python 3.9.10 64-bit",
      "language": "python",
      "name": "python3"
    },
    "language_info": {
      "codemirror_mode": {
        "name": "ipython",
        "version": 3
      },
      "file_extension": ".py",
      "mimetype": "text/x-python",
      "name": "python",
      "nbconvert_exporter": "python",
      "pygments_lexer": "ipython3",
      "version": "3.10.12"
    },
    "vscode": {
      "interpreter": {
        "hash": "aee8b7b246df8f9039afb4144a1f6fd8d2ca17a180786b69acc140d282b71a49"
      }
    },
    "widgets": {
      "application/vnd.jupyter.widget-state+json": {
        "028c7b70ab0f47eba3c2f1f20b0926e5": {
          "model_module": "@jupyter-widgets/base",
          "model_module_version": "1.2.0",
          "model_name": "LayoutModel",
          "state": {
            "_model_module": "@jupyter-widgets/base",
            "_model_module_version": "1.2.0",
            "_model_name": "LayoutModel",
            "_view_count": null,
            "_view_module": "@jupyter-widgets/base",
            "_view_module_version": "1.2.0",
            "_view_name": "LayoutView",
            "align_content": null,
            "align_items": null,
            "align_self": null,
            "border": null,
            "bottom": null,
            "display": null,
            "flex": null,
            "flex_flow": null,
            "grid_area": null,
            "grid_auto_columns": null,
            "grid_auto_flow": null,
            "grid_auto_rows": null,
            "grid_column": null,
            "grid_gap": null,
            "grid_row": null,
            "grid_template_areas": null,
            "grid_template_columns": null,
            "grid_template_rows": null,
            "height": null,
            "justify_content": null,
            "justify_items": null,
            "left": null,
            "margin": null,
            "max_height": null,
            "max_width": null,
            "min_height": null,
            "min_width": null,
            "object_fit": null,
            "object_position": null,
            "order": null,
            "overflow": null,
            "overflow_x": null,
            "overflow_y": null,
            "padding": null,
            "right": null,
            "top": null,
            "visibility": null,
            "width": null
          }
        },
        "0b8b3fafc8c24636a0c62a166483ddf1": {
          "model_module": "@jupyter-widgets/controls",
          "model_module_version": "1.5.0",
          "model_name": "FloatProgressModel",
          "state": {
            "_dom_classes": [],
            "_model_module": "@jupyter-widgets/controls",
            "_model_module_version": "1.5.0",
            "_model_name": "FloatProgressModel",
            "_view_count": null,
            "_view_module": "@jupyter-widgets/controls",
            "_view_module_version": "1.5.0",
            "_view_name": "ProgressView",
            "bar_style": "success",
            "description": "",
            "description_tooltip": null,
            "layout": "IPY_MODEL_ce0589017b48404dbce085ac6d20ab39",
            "max": 231508,
            "min": 0,
            "orientation": "horizontal",
            "style": "IPY_MODEL_7936555292b840c5884828de3c249282",
            "value": 231508
          }
        },
        "15e1577696a94cda9ff6c4c70ace604b": {
          "model_module": "@jupyter-widgets/base",
          "model_module_version": "1.2.0",
          "model_name": "LayoutModel",
          "state": {
            "_model_module": "@jupyter-widgets/base",
            "_model_module_version": "1.2.0",
            "_model_name": "LayoutModel",
            "_view_count": null,
            "_view_module": "@jupyter-widgets/base",
            "_view_module_version": "1.2.0",
            "_view_name": "LayoutView",
            "align_content": null,
            "align_items": null,
            "align_self": null,
            "border": null,
            "bottom": null,
            "display": null,
            "flex": null,
            "flex_flow": null,
            "grid_area": null,
            "grid_auto_columns": null,
            "grid_auto_flow": null,
            "grid_auto_rows": null,
            "grid_column": null,
            "grid_gap": null,
            "grid_row": null,
            "grid_template_areas": null,
            "grid_template_columns": null,
            "grid_template_rows": null,
            "height": null,
            "justify_content": null,
            "justify_items": null,
            "left": null,
            "margin": null,
            "max_height": null,
            "max_width": null,
            "min_height": null,
            "min_width": null,
            "object_fit": null,
            "object_position": null,
            "order": null,
            "overflow": null,
            "overflow_x": null,
            "overflow_y": null,
            "padding": null,
            "right": null,
            "top": null,
            "visibility": null,
            "width": null
          }
        },
        "1668296226ee45449efc03c39b22ce4a": {
          "model_module": "@jupyter-widgets/controls",
          "model_module_version": "1.5.0",
          "model_name": "HTMLModel",
          "state": {
            "_dom_classes": [],
            "_model_module": "@jupyter-widgets/controls",
            "_model_module_version": "1.5.0",
            "_model_name": "HTMLModel",
            "_view_count": null,
            "_view_module": "@jupyter-widgets/controls",
            "_view_module_version": "1.5.0",
            "_view_name": "HTMLView",
            "description": "",
            "description_tooltip": null,
            "layout": "IPY_MODEL_b2189b6006984d4ca6257f54f0626883",
            "placeholder": "​",
            "style": "IPY_MODEL_ef60dcf976254edeba80447ddaa09cc4",
            "value": "Downloading (…)solve/main/vocab.txt: 100%"
          }
        },
        "1a08a5ac238d4d40b1dd7d925361e589": {
          "model_module": "@jupyter-widgets/controls",
          "model_module_version": "1.5.0",
          "model_name": "HBoxModel",
          "state": {
            "_dom_classes": [],
            "_model_module": "@jupyter-widgets/controls",
            "_model_module_version": "1.5.0",
            "_model_name": "HBoxModel",
            "_view_count": null,
            "_view_module": "@jupyter-widgets/controls",
            "_view_module_version": "1.5.0",
            "_view_name": "HBoxView",
            "box_style": "",
            "children": [
              "IPY_MODEL_348eef1705e54a9b9f3660ded76bd68f",
              "IPY_MODEL_7eca837840ab495aa653d2751e821b2a",
              "IPY_MODEL_b55f0dae3c3647139c6680d6b59da998"
            ],
            "layout": "IPY_MODEL_15e1577696a94cda9ff6c4c70ace604b"
          }
        },
        "2f5c6539bb0d433e8a93e480452f2078": {
          "model_module": "@jupyter-widgets/base",
          "model_module_version": "1.2.0",
          "model_name": "LayoutModel",
          "state": {
            "_model_module": "@jupyter-widgets/base",
            "_model_module_version": "1.2.0",
            "_model_name": "LayoutModel",
            "_view_count": null,
            "_view_module": "@jupyter-widgets/base",
            "_view_module_version": "1.2.0",
            "_view_name": "LayoutView",
            "align_content": null,
            "align_items": null,
            "align_self": null,
            "border": null,
            "bottom": null,
            "display": null,
            "flex": null,
            "flex_flow": null,
            "grid_area": null,
            "grid_auto_columns": null,
            "grid_auto_flow": null,
            "grid_auto_rows": null,
            "grid_column": null,
            "grid_gap": null,
            "grid_row": null,
            "grid_template_areas": null,
            "grid_template_columns": null,
            "grid_template_rows": null,
            "height": null,
            "justify_content": null,
            "justify_items": null,
            "left": null,
            "margin": null,
            "max_height": null,
            "max_width": null,
            "min_height": null,
            "min_width": null,
            "object_fit": null,
            "object_position": null,
            "order": null,
            "overflow": null,
            "overflow_x": null,
            "overflow_y": null,
            "padding": null,
            "right": null,
            "top": null,
            "visibility": null,
            "width": null
          }
        },
        "348eef1705e54a9b9f3660ded76bd68f": {
          "model_module": "@jupyter-widgets/controls",
          "model_module_version": "1.5.0",
          "model_name": "HTMLModel",
          "state": {
            "_dom_classes": [],
            "_model_module": "@jupyter-widgets/controls",
            "_model_module_version": "1.5.0",
            "_model_name": "HTMLModel",
            "_view_count": null,
            "_view_module": "@jupyter-widgets/controls",
            "_view_module_version": "1.5.0",
            "_view_name": "HTMLView",
            "description": "",
            "description_tooltip": null,
            "layout": "IPY_MODEL_91c780a04a054671ad27c793f8693390",
            "placeholder": "​",
            "style": "IPY_MODEL_79bb64584df84cc5b70d837fce33b730",
            "value": "Downloading (…)okenizer_config.json: 100%"
          }
        },
        "38831328b9054139accbde1240fbda25": {
          "model_module": "@jupyter-widgets/controls",
          "model_module_version": "1.5.0",
          "model_name": "DescriptionStyleModel",
          "state": {
            "_model_module": "@jupyter-widgets/controls",
            "_model_module_version": "1.5.0",
            "_model_name": "DescriptionStyleModel",
            "_view_count": null,
            "_view_module": "@jupyter-widgets/base",
            "_view_module_version": "1.2.0",
            "_view_name": "StyleView",
            "description_width": ""
          }
        },
        "3a96b255b77b46929efd57dc56c4a800": {
          "model_module": "@jupyter-widgets/base",
          "model_module_version": "1.2.0",
          "model_name": "LayoutModel",
          "state": {
            "_model_module": "@jupyter-widgets/base",
            "_model_module_version": "1.2.0",
            "_model_name": "LayoutModel",
            "_view_count": null,
            "_view_module": "@jupyter-widgets/base",
            "_view_module_version": "1.2.0",
            "_view_name": "LayoutView",
            "align_content": null,
            "align_items": null,
            "align_self": null,
            "border": null,
            "bottom": null,
            "display": null,
            "flex": null,
            "flex_flow": null,
            "grid_area": null,
            "grid_auto_columns": null,
            "grid_auto_flow": null,
            "grid_auto_rows": null,
            "grid_column": null,
            "grid_gap": null,
            "grid_row": null,
            "grid_template_areas": null,
            "grid_template_columns": null,
            "grid_template_rows": null,
            "height": null,
            "justify_content": null,
            "justify_items": null,
            "left": null,
            "margin": null,
            "max_height": null,
            "max_width": null,
            "min_height": null,
            "min_width": null,
            "object_fit": null,
            "object_position": null,
            "order": null,
            "overflow": null,
            "overflow_x": null,
            "overflow_y": null,
            "padding": null,
            "right": null,
            "top": null,
            "visibility": null,
            "width": null
          }
        },
        "3ef1dbc02b6a4f08b894093bdac7343d": {
          "model_module": "@jupyter-widgets/base",
          "model_module_version": "1.2.0",
          "model_name": "LayoutModel",
          "state": {
            "_model_module": "@jupyter-widgets/base",
            "_model_module_version": "1.2.0",
            "_model_name": "LayoutModel",
            "_view_count": null,
            "_view_module": "@jupyter-widgets/base",
            "_view_module_version": "1.2.0",
            "_view_name": "LayoutView",
            "align_content": null,
            "align_items": null,
            "align_self": null,
            "border": null,
            "bottom": null,
            "display": null,
            "flex": null,
            "flex_flow": null,
            "grid_area": null,
            "grid_auto_columns": null,
            "grid_auto_flow": null,
            "grid_auto_rows": null,
            "grid_column": null,
            "grid_gap": null,
            "grid_row": null,
            "grid_template_areas": null,
            "grid_template_columns": null,
            "grid_template_rows": null,
            "height": null,
            "justify_content": null,
            "justify_items": null,
            "left": null,
            "margin": null,
            "max_height": null,
            "max_width": null,
            "min_height": null,
            "min_width": null,
            "object_fit": null,
            "object_position": null,
            "order": null,
            "overflow": null,
            "overflow_x": null,
            "overflow_y": null,
            "padding": null,
            "right": null,
            "top": null,
            "visibility": null,
            "width": null
          }
        },
        "43d1271cec9745cdb2649a85dc79e0e6": {
          "model_module": "@jupyter-widgets/base",
          "model_module_version": "1.2.0",
          "model_name": "LayoutModel",
          "state": {
            "_model_module": "@jupyter-widgets/base",
            "_model_module_version": "1.2.0",
            "_model_name": "LayoutModel",
            "_view_count": null,
            "_view_module": "@jupyter-widgets/base",
            "_view_module_version": "1.2.0",
            "_view_name": "LayoutView",
            "align_content": null,
            "align_items": null,
            "align_self": null,
            "border": null,
            "bottom": null,
            "display": null,
            "flex": null,
            "flex_flow": null,
            "grid_area": null,
            "grid_auto_columns": null,
            "grid_auto_flow": null,
            "grid_auto_rows": null,
            "grid_column": null,
            "grid_gap": null,
            "grid_row": null,
            "grid_template_areas": null,
            "grid_template_columns": null,
            "grid_template_rows": null,
            "height": null,
            "justify_content": null,
            "justify_items": null,
            "left": null,
            "margin": null,
            "max_height": null,
            "max_width": null,
            "min_height": null,
            "min_width": null,
            "object_fit": null,
            "object_position": null,
            "order": null,
            "overflow": null,
            "overflow_x": null,
            "overflow_y": null,
            "padding": null,
            "right": null,
            "top": null,
            "visibility": null,
            "width": null
          }
        },
        "4495c485de554751a39b7ebba6ce9faa": {
          "model_module": "@jupyter-widgets/base",
          "model_module_version": "1.2.0",
          "model_name": "LayoutModel",
          "state": {
            "_model_module": "@jupyter-widgets/base",
            "_model_module_version": "1.2.0",
            "_model_name": "LayoutModel",
            "_view_count": null,
            "_view_module": "@jupyter-widgets/base",
            "_view_module_version": "1.2.0",
            "_view_name": "LayoutView",
            "align_content": null,
            "align_items": null,
            "align_self": null,
            "border": null,
            "bottom": null,
            "display": null,
            "flex": null,
            "flex_flow": null,
            "grid_area": null,
            "grid_auto_columns": null,
            "grid_auto_flow": null,
            "grid_auto_rows": null,
            "grid_column": null,
            "grid_gap": null,
            "grid_row": null,
            "grid_template_areas": null,
            "grid_template_columns": null,
            "grid_template_rows": null,
            "height": null,
            "justify_content": null,
            "justify_items": null,
            "left": null,
            "margin": null,
            "max_height": null,
            "max_width": null,
            "min_height": null,
            "min_width": null,
            "object_fit": null,
            "object_position": null,
            "order": null,
            "overflow": null,
            "overflow_x": null,
            "overflow_y": null,
            "padding": null,
            "right": null,
            "top": null,
            "visibility": null,
            "width": null
          }
        },
        "47963cd61cae4dc4998b3a8d91043cc6": {
          "model_module": "@jupyter-widgets/controls",
          "model_module_version": "1.5.0",
          "model_name": "DescriptionStyleModel",
          "state": {
            "_model_module": "@jupyter-widgets/controls",
            "_model_module_version": "1.5.0",
            "_model_name": "DescriptionStyleModel",
            "_view_count": null,
            "_view_module": "@jupyter-widgets/base",
            "_view_module_version": "1.2.0",
            "_view_name": "StyleView",
            "description_width": ""
          }
        },
        "58a16acf45cb46f287d156a14f769a46": {
          "model_module": "@jupyter-widgets/controls",
          "model_module_version": "1.5.0",
          "model_name": "ProgressStyleModel",
          "state": {
            "_model_module": "@jupyter-widgets/controls",
            "_model_module_version": "1.5.0",
            "_model_name": "ProgressStyleModel",
            "_view_count": null,
            "_view_module": "@jupyter-widgets/base",
            "_view_module_version": "1.2.0",
            "_view_name": "StyleView",
            "bar_color": null,
            "description_width": ""
          }
        },
        "5ffb028ce453462aa304d39876928cb6": {
          "model_module": "@jupyter-widgets/controls",
          "model_module_version": "1.5.0",
          "model_name": "HTMLModel",
          "state": {
            "_dom_classes": [],
            "_model_module": "@jupyter-widgets/controls",
            "_model_module_version": "1.5.0",
            "_model_name": "HTMLModel",
            "_view_count": null,
            "_view_module": "@jupyter-widgets/controls",
            "_view_module_version": "1.5.0",
            "_view_name": "HTMLView",
            "description": "",
            "description_tooltip": null,
            "layout": "IPY_MODEL_d68ec7378a3e4e59ab59ccdeb8b2739e",
            "placeholder": "​",
            "style": "IPY_MODEL_8e3575d6ddc1441c88027bbd369524cd",
            "value": " 232k/232k [00:00&lt;00:00, 590kB/s]"
          }
        },
        "604d3d379cac422db3876609feefab31": {
          "model_module": "@jupyter-widgets/controls",
          "model_module_version": "1.5.0",
          "model_name": "HBoxModel",
          "state": {
            "_dom_classes": [],
            "_model_module": "@jupyter-widgets/controls",
            "_model_module_version": "1.5.0",
            "_model_name": "HBoxModel",
            "_view_count": null,
            "_view_module": "@jupyter-widgets/controls",
            "_view_module_version": "1.5.0",
            "_view_name": "HBoxView",
            "box_style": "",
            "children": [
              "IPY_MODEL_67d1cc4f82a641d6abf28f144c46eb8d",
              "IPY_MODEL_98c799acf42b4c7c867803de3bd79612",
              "IPY_MODEL_da334338b05248489ad5e5d2acd432e1"
            ],
            "layout": "IPY_MODEL_43d1271cec9745cdb2649a85dc79e0e6"
          }
        },
        "67d1cc4f82a641d6abf28f144c46eb8d": {
          "model_module": "@jupyter-widgets/controls",
          "model_module_version": "1.5.0",
          "model_name": "HTMLModel",
          "state": {
            "_dom_classes": [],
            "_model_module": "@jupyter-widgets/controls",
            "_model_module_version": "1.5.0",
            "_model_name": "HTMLModel",
            "_view_count": null,
            "_view_module": "@jupyter-widgets/controls",
            "_view_module_version": "1.5.0",
            "_view_name": "HTMLView",
            "description": "",
            "description_tooltip": null,
            "layout": "IPY_MODEL_8723bbfd4d8a4542ab35aeeac8191c40",
            "placeholder": "​",
            "style": "IPY_MODEL_b20c421a8af9477299d34f294ca66774",
            "value": "Downloading model.safetensors: 100%"
          }
        },
        "68bd26dfc3184328a35a4a90b5f67de9": {
          "model_module": "@jupyter-widgets/controls",
          "model_module_version": "1.5.0",
          "model_name": "FloatProgressModel",
          "state": {
            "_dom_classes": [],
            "_model_module": "@jupyter-widgets/controls",
            "_model_module_version": "1.5.0",
            "_model_name": "FloatProgressModel",
            "_view_count": null,
            "_view_module": "@jupyter-widgets/controls",
            "_view_module_version": "1.5.0",
            "_view_name": "ProgressView",
            "bar_style": "success",
            "description": "",
            "description_tooltip": null,
            "layout": "IPY_MODEL_4495c485de554751a39b7ebba6ce9faa",
            "max": 629,
            "min": 0,
            "orientation": "horizontal",
            "style": "IPY_MODEL_81127743dd6541f6a0362bfbfc3d7472",
            "value": 629
          }
        },
        "6d18fa41260641ca958def558a890967": {
          "model_module": "@jupyter-widgets/base",
          "model_module_version": "1.2.0",
          "model_name": "LayoutModel",
          "state": {
            "_model_module": "@jupyter-widgets/base",
            "_model_module_version": "1.2.0",
            "_model_name": "LayoutModel",
            "_view_count": null,
            "_view_module": "@jupyter-widgets/base",
            "_view_module_version": "1.2.0",
            "_view_name": "LayoutView",
            "align_content": null,
            "align_items": null,
            "align_self": null,
            "border": null,
            "bottom": null,
            "display": null,
            "flex": null,
            "flex_flow": null,
            "grid_area": null,
            "grid_auto_columns": null,
            "grid_auto_flow": null,
            "grid_auto_rows": null,
            "grid_column": null,
            "grid_gap": null,
            "grid_row": null,
            "grid_template_areas": null,
            "grid_template_columns": null,
            "grid_template_rows": null,
            "height": null,
            "justify_content": null,
            "justify_items": null,
            "left": null,
            "margin": null,
            "max_height": null,
            "max_width": null,
            "min_height": null,
            "min_width": null,
            "object_fit": null,
            "object_position": null,
            "order": null,
            "overflow": null,
            "overflow_x": null,
            "overflow_y": null,
            "padding": null,
            "right": null,
            "top": null,
            "visibility": null,
            "width": null
          }
        },
        "74478d586aaa4fe49c4f344a959e670e": {
          "model_module": "@jupyter-widgets/base",
          "model_module_version": "1.2.0",
          "model_name": "LayoutModel",
          "state": {
            "_model_module": "@jupyter-widgets/base",
            "_model_module_version": "1.2.0",
            "_model_name": "LayoutModel",
            "_view_count": null,
            "_view_module": "@jupyter-widgets/base",
            "_view_module_version": "1.2.0",
            "_view_name": "LayoutView",
            "align_content": null,
            "align_items": null,
            "align_self": null,
            "border": null,
            "bottom": null,
            "display": null,
            "flex": null,
            "flex_flow": null,
            "grid_area": null,
            "grid_auto_columns": null,
            "grid_auto_flow": null,
            "grid_auto_rows": null,
            "grid_column": null,
            "grid_gap": null,
            "grid_row": null,
            "grid_template_areas": null,
            "grid_template_columns": null,
            "grid_template_rows": null,
            "height": null,
            "justify_content": null,
            "justify_items": null,
            "left": null,
            "margin": null,
            "max_height": null,
            "max_width": null,
            "min_height": null,
            "min_width": null,
            "object_fit": null,
            "object_position": null,
            "order": null,
            "overflow": null,
            "overflow_x": null,
            "overflow_y": null,
            "padding": null,
            "right": null,
            "top": null,
            "visibility": null,
            "width": null
          }
        },
        "7936555292b840c5884828de3c249282": {
          "model_module": "@jupyter-widgets/controls",
          "model_module_version": "1.5.0",
          "model_name": "ProgressStyleModel",
          "state": {
            "_model_module": "@jupyter-widgets/controls",
            "_model_module_version": "1.5.0",
            "_model_name": "ProgressStyleModel",
            "_view_count": null,
            "_view_module": "@jupyter-widgets/base",
            "_view_module_version": "1.2.0",
            "_view_name": "StyleView",
            "bar_color": null,
            "description_width": ""
          }
        },
        "79bb64584df84cc5b70d837fce33b730": {
          "model_module": "@jupyter-widgets/controls",
          "model_module_version": "1.5.0",
          "model_name": "DescriptionStyleModel",
          "state": {
            "_model_module": "@jupyter-widgets/controls",
            "_model_module_version": "1.5.0",
            "_model_name": "DescriptionStyleModel",
            "_view_count": null,
            "_view_module": "@jupyter-widgets/base",
            "_view_module_version": "1.2.0",
            "_view_name": "StyleView",
            "description_width": ""
          }
        },
        "7eca837840ab495aa653d2751e821b2a": {
          "model_module": "@jupyter-widgets/controls",
          "model_module_version": "1.5.0",
          "model_name": "FloatProgressModel",
          "state": {
            "_dom_classes": [],
            "_model_module": "@jupyter-widgets/controls",
            "_model_module_version": "1.5.0",
            "_model_name": "FloatProgressModel",
            "_view_count": null,
            "_view_module": "@jupyter-widgets/controls",
            "_view_module_version": "1.5.0",
            "_view_name": "ProgressView",
            "bar_style": "success",
            "description": "",
            "description_tooltip": null,
            "layout": "IPY_MODEL_74478d586aaa4fe49c4f344a959e670e",
            "max": 48,
            "min": 0,
            "orientation": "horizontal",
            "style": "IPY_MODEL_58a16acf45cb46f287d156a14f769a46",
            "value": 48
          }
        },
        "81127743dd6541f6a0362bfbfc3d7472": {
          "model_module": "@jupyter-widgets/controls",
          "model_module_version": "1.5.0",
          "model_name": "ProgressStyleModel",
          "state": {
            "_model_module": "@jupyter-widgets/controls",
            "_model_module_version": "1.5.0",
            "_model_name": "ProgressStyleModel",
            "_view_count": null,
            "_view_module": "@jupyter-widgets/base",
            "_view_module_version": "1.2.0",
            "_view_name": "StyleView",
            "bar_color": null,
            "description_width": ""
          }
        },
        "8723bbfd4d8a4542ab35aeeac8191c40": {
          "model_module": "@jupyter-widgets/base",
          "model_module_version": "1.2.0",
          "model_name": "LayoutModel",
          "state": {
            "_model_module": "@jupyter-widgets/base",
            "_model_module_version": "1.2.0",
            "_model_name": "LayoutModel",
            "_view_count": null,
            "_view_module": "@jupyter-widgets/base",
            "_view_module_version": "1.2.0",
            "_view_name": "LayoutView",
            "align_content": null,
            "align_items": null,
            "align_self": null,
            "border": null,
            "bottom": null,
            "display": null,
            "flex": null,
            "flex_flow": null,
            "grid_area": null,
            "grid_auto_columns": null,
            "grid_auto_flow": null,
            "grid_auto_rows": null,
            "grid_column": null,
            "grid_gap": null,
            "grid_row": null,
            "grid_template_areas": null,
            "grid_template_columns": null,
            "grid_template_rows": null,
            "height": null,
            "justify_content": null,
            "justify_items": null,
            "left": null,
            "margin": null,
            "max_height": null,
            "max_width": null,
            "min_height": null,
            "min_width": null,
            "object_fit": null,
            "object_position": null,
            "order": null,
            "overflow": null,
            "overflow_x": null,
            "overflow_y": null,
            "padding": null,
            "right": null,
            "top": null,
            "visibility": null,
            "width": null
          }
        },
        "8e3575d6ddc1441c88027bbd369524cd": {
          "model_module": "@jupyter-widgets/controls",
          "model_module_version": "1.5.0",
          "model_name": "DescriptionStyleModel",
          "state": {
            "_model_module": "@jupyter-widgets/controls",
            "_model_module_version": "1.5.0",
            "_model_name": "DescriptionStyleModel",
            "_view_count": null,
            "_view_module": "@jupyter-widgets/base",
            "_view_module_version": "1.2.0",
            "_view_name": "StyleView",
            "description_width": ""
          }
        },
        "91c780a04a054671ad27c793f8693390": {
          "model_module": "@jupyter-widgets/base",
          "model_module_version": "1.2.0",
          "model_name": "LayoutModel",
          "state": {
            "_model_module": "@jupyter-widgets/base",
            "_model_module_version": "1.2.0",
            "_model_name": "LayoutModel",
            "_view_count": null,
            "_view_module": "@jupyter-widgets/base",
            "_view_module_version": "1.2.0",
            "_view_name": "LayoutView",
            "align_content": null,
            "align_items": null,
            "align_self": null,
            "border": null,
            "bottom": null,
            "display": null,
            "flex": null,
            "flex_flow": null,
            "grid_area": null,
            "grid_auto_columns": null,
            "grid_auto_flow": null,
            "grid_auto_rows": null,
            "grid_column": null,
            "grid_gap": null,
            "grid_row": null,
            "grid_template_areas": null,
            "grid_template_columns": null,
            "grid_template_rows": null,
            "height": null,
            "justify_content": null,
            "justify_items": null,
            "left": null,
            "margin": null,
            "max_height": null,
            "max_width": null,
            "min_height": null,
            "min_width": null,
            "object_fit": null,
            "object_position": null,
            "order": null,
            "overflow": null,
            "overflow_x": null,
            "overflow_y": null,
            "padding": null,
            "right": null,
            "top": null,
            "visibility": null,
            "width": null
          }
        },
        "951a1ff3690d469dafcab1e112cacfd7": {
          "model_module": "@jupyter-widgets/controls",
          "model_module_version": "1.5.0",
          "model_name": "ProgressStyleModel",
          "state": {
            "_model_module": "@jupyter-widgets/controls",
            "_model_module_version": "1.5.0",
            "_model_name": "ProgressStyleModel",
            "_view_count": null,
            "_view_module": "@jupyter-widgets/base",
            "_view_module_version": "1.2.0",
            "_view_name": "StyleView",
            "bar_color": null,
            "description_width": ""
          }
        },
        "98c799acf42b4c7c867803de3bd79612": {
          "model_module": "@jupyter-widgets/controls",
          "model_module_version": "1.5.0",
          "model_name": "FloatProgressModel",
          "state": {
            "_dom_classes": [],
            "_model_module": "@jupyter-widgets/controls",
            "_model_module_version": "1.5.0",
            "_model_name": "FloatProgressModel",
            "_view_count": null,
            "_view_module": "@jupyter-widgets/controls",
            "_view_module_version": "1.5.0",
            "_view_name": "ProgressView",
            "bar_style": "success",
            "description": "",
            "description_tooltip": null,
            "layout": "IPY_MODEL_6d18fa41260641ca958def558a890967",
            "max": 267832558,
            "min": 0,
            "orientation": "horizontal",
            "style": "IPY_MODEL_951a1ff3690d469dafcab1e112cacfd7",
            "value": 267832558
          }
        },
        "9b9a8e9b74e842f4962d96a3e3a2e3dd": {
          "model_module": "@jupyter-widgets/controls",
          "model_module_version": "1.5.0",
          "model_name": "DescriptionStyleModel",
          "state": {
            "_model_module": "@jupyter-widgets/controls",
            "_model_module_version": "1.5.0",
            "_model_name": "DescriptionStyleModel",
            "_view_count": null,
            "_view_module": "@jupyter-widgets/base",
            "_view_module_version": "1.2.0",
            "_view_name": "StyleView",
            "description_width": ""
          }
        },
        "a0fc5b142c3b40dba6ab18a03f2a5b05": {
          "model_module": "@jupyter-widgets/controls",
          "model_module_version": "1.5.0",
          "model_name": "HBoxModel",
          "state": {
            "_dom_classes": [],
            "_model_module": "@jupyter-widgets/controls",
            "_model_module_version": "1.5.0",
            "_model_name": "HBoxModel",
            "_view_count": null,
            "_view_module": "@jupyter-widgets/controls",
            "_view_module_version": "1.5.0",
            "_view_name": "HBoxView",
            "box_style": "",
            "children": [
              "IPY_MODEL_1668296226ee45449efc03c39b22ce4a",
              "IPY_MODEL_0b8b3fafc8c24636a0c62a166483ddf1",
              "IPY_MODEL_5ffb028ce453462aa304d39876928cb6"
            ],
            "layout": "IPY_MODEL_f494f3b2a79b4139875cb40395d4e2ee"
          }
        },
        "b20c421a8af9477299d34f294ca66774": {
          "model_module": "@jupyter-widgets/controls",
          "model_module_version": "1.5.0",
          "model_name": "DescriptionStyleModel",
          "state": {
            "_model_module": "@jupyter-widgets/controls",
            "_model_module_version": "1.5.0",
            "_model_name": "DescriptionStyleModel",
            "_view_count": null,
            "_view_module": "@jupyter-widgets/base",
            "_view_module_version": "1.2.0",
            "_view_name": "StyleView",
            "description_width": ""
          }
        },
        "b2189b6006984d4ca6257f54f0626883": {
          "model_module": "@jupyter-widgets/base",
          "model_module_version": "1.2.0",
          "model_name": "LayoutModel",
          "state": {
            "_model_module": "@jupyter-widgets/base",
            "_model_module_version": "1.2.0",
            "_model_name": "LayoutModel",
            "_view_count": null,
            "_view_module": "@jupyter-widgets/base",
            "_view_module_version": "1.2.0",
            "_view_name": "LayoutView",
            "align_content": null,
            "align_items": null,
            "align_self": null,
            "border": null,
            "bottom": null,
            "display": null,
            "flex": null,
            "flex_flow": null,
            "grid_area": null,
            "grid_auto_columns": null,
            "grid_auto_flow": null,
            "grid_auto_rows": null,
            "grid_column": null,
            "grid_gap": null,
            "grid_row": null,
            "grid_template_areas": null,
            "grid_template_columns": null,
            "grid_template_rows": null,
            "height": null,
            "justify_content": null,
            "justify_items": null,
            "left": null,
            "margin": null,
            "max_height": null,
            "max_width": null,
            "min_height": null,
            "min_width": null,
            "object_fit": null,
            "object_position": null,
            "order": null,
            "overflow": null,
            "overflow_x": null,
            "overflow_y": null,
            "padding": null,
            "right": null,
            "top": null,
            "visibility": null,
            "width": null
          }
        },
        "b3d6482f80134b668d1c48af02de7bcf": {
          "model_module": "@jupyter-widgets/controls",
          "model_module_version": "1.5.0",
          "model_name": "DescriptionStyleModel",
          "state": {
            "_model_module": "@jupyter-widgets/controls",
            "_model_module_version": "1.5.0",
            "_model_name": "DescriptionStyleModel",
            "_view_count": null,
            "_view_module": "@jupyter-widgets/base",
            "_view_module_version": "1.2.0",
            "_view_name": "StyleView",
            "description_width": ""
          }
        },
        "b55f0dae3c3647139c6680d6b59da998": {
          "model_module": "@jupyter-widgets/controls",
          "model_module_version": "1.5.0",
          "model_name": "HTMLModel",
          "state": {
            "_dom_classes": [],
            "_model_module": "@jupyter-widgets/controls",
            "_model_module_version": "1.5.0",
            "_model_name": "HTMLModel",
            "_view_count": null,
            "_view_module": "@jupyter-widgets/controls",
            "_view_module_version": "1.5.0",
            "_view_name": "HTMLView",
            "description": "",
            "description_tooltip": null,
            "layout": "IPY_MODEL_c9f88d97ef8b47aa92217e58fd3d82e0",
            "placeholder": "​",
            "style": "IPY_MODEL_47963cd61cae4dc4998b3a8d91043cc6",
            "value": " 48.0/48.0 [00:00&lt;00:00, 2.08kB/s]"
          }
        },
        "c9f88d97ef8b47aa92217e58fd3d82e0": {
          "model_module": "@jupyter-widgets/base",
          "model_module_version": "1.2.0",
          "model_name": "LayoutModel",
          "state": {
            "_model_module": "@jupyter-widgets/base",
            "_model_module_version": "1.2.0",
            "_model_name": "LayoutModel",
            "_view_count": null,
            "_view_module": "@jupyter-widgets/base",
            "_view_module_version": "1.2.0",
            "_view_name": "LayoutView",
            "align_content": null,
            "align_items": null,
            "align_self": null,
            "border": null,
            "bottom": null,
            "display": null,
            "flex": null,
            "flex_flow": null,
            "grid_area": null,
            "grid_auto_columns": null,
            "grid_auto_flow": null,
            "grid_auto_rows": null,
            "grid_column": null,
            "grid_gap": null,
            "grid_row": null,
            "grid_template_areas": null,
            "grid_template_columns": null,
            "grid_template_rows": null,
            "height": null,
            "justify_content": null,
            "justify_items": null,
            "left": null,
            "margin": null,
            "max_height": null,
            "max_width": null,
            "min_height": null,
            "min_width": null,
            "object_fit": null,
            "object_position": null,
            "order": null,
            "overflow": null,
            "overflow_x": null,
            "overflow_y": null,
            "padding": null,
            "right": null,
            "top": null,
            "visibility": null,
            "width": null
          }
        },
        "ce0589017b48404dbce085ac6d20ab39": {
          "model_module": "@jupyter-widgets/base",
          "model_module_version": "1.2.0",
          "model_name": "LayoutModel",
          "state": {
            "_model_module": "@jupyter-widgets/base",
            "_model_module_version": "1.2.0",
            "_model_name": "LayoutModel",
            "_view_count": null,
            "_view_module": "@jupyter-widgets/base",
            "_view_module_version": "1.2.0",
            "_view_name": "LayoutView",
            "align_content": null,
            "align_items": null,
            "align_self": null,
            "border": null,
            "bottom": null,
            "display": null,
            "flex": null,
            "flex_flow": null,
            "grid_area": null,
            "grid_auto_columns": null,
            "grid_auto_flow": null,
            "grid_auto_rows": null,
            "grid_column": null,
            "grid_gap": null,
            "grid_row": null,
            "grid_template_areas": null,
            "grid_template_columns": null,
            "grid_template_rows": null,
            "height": null,
            "justify_content": null,
            "justify_items": null,
            "left": null,
            "margin": null,
            "max_height": null,
            "max_width": null,
            "min_height": null,
            "min_width": null,
            "object_fit": null,
            "object_position": null,
            "order": null,
            "overflow": null,
            "overflow_x": null,
            "overflow_y": null,
            "padding": null,
            "right": null,
            "top": null,
            "visibility": null,
            "width": null
          }
        },
        "d68ec7378a3e4e59ab59ccdeb8b2739e": {
          "model_module": "@jupyter-widgets/base",
          "model_module_version": "1.2.0",
          "model_name": "LayoutModel",
          "state": {
            "_model_module": "@jupyter-widgets/base",
            "_model_module_version": "1.2.0",
            "_model_name": "LayoutModel",
            "_view_count": null,
            "_view_module": "@jupyter-widgets/base",
            "_view_module_version": "1.2.0",
            "_view_name": "LayoutView",
            "align_content": null,
            "align_items": null,
            "align_self": null,
            "border": null,
            "bottom": null,
            "display": null,
            "flex": null,
            "flex_flow": null,
            "grid_area": null,
            "grid_auto_columns": null,
            "grid_auto_flow": null,
            "grid_auto_rows": null,
            "grid_column": null,
            "grid_gap": null,
            "grid_row": null,
            "grid_template_areas": null,
            "grid_template_columns": null,
            "grid_template_rows": null,
            "height": null,
            "justify_content": null,
            "justify_items": null,
            "left": null,
            "margin": null,
            "max_height": null,
            "max_width": null,
            "min_height": null,
            "min_width": null,
            "object_fit": null,
            "object_position": null,
            "order": null,
            "overflow": null,
            "overflow_x": null,
            "overflow_y": null,
            "padding": null,
            "right": null,
            "top": null,
            "visibility": null,
            "width": null
          }
        },
        "d702df7b9ebf4dc69500e3fc9c8c79bb": {
          "model_module": "@jupyter-widgets/controls",
          "model_module_version": "1.5.0",
          "model_name": "HTMLModel",
          "state": {
            "_dom_classes": [],
            "_model_module": "@jupyter-widgets/controls",
            "_model_module_version": "1.5.0",
            "_model_name": "HTMLModel",
            "_view_count": null,
            "_view_module": "@jupyter-widgets/controls",
            "_view_module_version": "1.5.0",
            "_view_name": "HTMLView",
            "description": "",
            "description_tooltip": null,
            "layout": "IPY_MODEL_3a96b255b77b46929efd57dc56c4a800",
            "placeholder": "​",
            "style": "IPY_MODEL_b3d6482f80134b668d1c48af02de7bcf",
            "value": "Downloading (…)lve/main/config.json: 100%"
          }
        },
        "da334338b05248489ad5e5d2acd432e1": {
          "model_module": "@jupyter-widgets/controls",
          "model_module_version": "1.5.0",
          "model_name": "HTMLModel",
          "state": {
            "_dom_classes": [],
            "_model_module": "@jupyter-widgets/controls",
            "_model_module_version": "1.5.0",
            "_model_name": "HTMLModel",
            "_view_count": null,
            "_view_module": "@jupyter-widgets/controls",
            "_view_module_version": "1.5.0",
            "_view_name": "HTMLView",
            "description": "",
            "description_tooltip": null,
            "layout": "IPY_MODEL_2f5c6539bb0d433e8a93e480452f2078",
            "placeholder": "​",
            "style": "IPY_MODEL_9b9a8e9b74e842f4962d96a3e3a2e3dd",
            "value": " 268M/268M [00:02&lt;00:00, 92.8MB/s]"
          }
        },
        "e019f9b1da334de7b367eac4f5832aa7": {
          "model_module": "@jupyter-widgets/controls",
          "model_module_version": "1.5.0",
          "model_name": "HBoxModel",
          "state": {
            "_dom_classes": [],
            "_model_module": "@jupyter-widgets/controls",
            "_model_module_version": "1.5.0",
            "_model_name": "HBoxModel",
            "_view_count": null,
            "_view_module": "@jupyter-widgets/controls",
            "_view_module_version": "1.5.0",
            "_view_name": "HBoxView",
            "box_style": "",
            "children": [
              "IPY_MODEL_d702df7b9ebf4dc69500e3fc9c8c79bb",
              "IPY_MODEL_68bd26dfc3184328a35a4a90b5f67de9",
              "IPY_MODEL_f960471fd6fe4265bdbb2fd251de6d83"
            ],
            "layout": "IPY_MODEL_028c7b70ab0f47eba3c2f1f20b0926e5"
          }
        },
        "ef60dcf976254edeba80447ddaa09cc4": {
          "model_module": "@jupyter-widgets/controls",
          "model_module_version": "1.5.0",
          "model_name": "DescriptionStyleModel",
          "state": {
            "_model_module": "@jupyter-widgets/controls",
            "_model_module_version": "1.5.0",
            "_model_name": "DescriptionStyleModel",
            "_view_count": null,
            "_view_module": "@jupyter-widgets/base",
            "_view_module_version": "1.2.0",
            "_view_name": "StyleView",
            "description_width": ""
          }
        },
        "f494f3b2a79b4139875cb40395d4e2ee": {
          "model_module": "@jupyter-widgets/base",
          "model_module_version": "1.2.0",
          "model_name": "LayoutModel",
          "state": {
            "_model_module": "@jupyter-widgets/base",
            "_model_module_version": "1.2.0",
            "_model_name": "LayoutModel",
            "_view_count": null,
            "_view_module": "@jupyter-widgets/base",
            "_view_module_version": "1.2.0",
            "_view_name": "LayoutView",
            "align_content": null,
            "align_items": null,
            "align_self": null,
            "border": null,
            "bottom": null,
            "display": null,
            "flex": null,
            "flex_flow": null,
            "grid_area": null,
            "grid_auto_columns": null,
            "grid_auto_flow": null,
            "grid_auto_rows": null,
            "grid_column": null,
            "grid_gap": null,
            "grid_row": null,
            "grid_template_areas": null,
            "grid_template_columns": null,
            "grid_template_rows": null,
            "height": null,
            "justify_content": null,
            "justify_items": null,
            "left": null,
            "margin": null,
            "max_height": null,
            "max_width": null,
            "min_height": null,
            "min_width": null,
            "object_fit": null,
            "object_position": null,
            "order": null,
            "overflow": null,
            "overflow_x": null,
            "overflow_y": null,
            "padding": null,
            "right": null,
            "top": null,
            "visibility": null,
            "width": null
          }
        },
        "f960471fd6fe4265bdbb2fd251de6d83": {
          "model_module": "@jupyter-widgets/controls",
          "model_module_version": "1.5.0",
          "model_name": "HTMLModel",
          "state": {
            "_dom_classes": [],
            "_model_module": "@jupyter-widgets/controls",
            "_model_module_version": "1.5.0",
            "_model_name": "HTMLModel",
            "_view_count": null,
            "_view_module": "@jupyter-widgets/controls",
            "_view_module_version": "1.5.0",
            "_view_name": "HTMLView",
            "description": "",
            "description_tooltip": null,
            "layout": "IPY_MODEL_3ef1dbc02b6a4f08b894093bdac7343d",
            "placeholder": "​",
            "style": "IPY_MODEL_38831328b9054139accbde1240fbda25",
            "value": " 629/629 [00:00&lt;00:00, 34.4kB/s]"
          }
        }
      }
    }
  },
  "nbformat": 4,
  "nbformat_minor": 0
}
